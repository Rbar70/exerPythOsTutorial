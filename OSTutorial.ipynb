{
    "cells": [
        {
            "cell_type": "code",
            "execution_count": 54,
            "source": [
                "import os\r\n",
                "# https://www.youtube.com/watch?v=tJxcKyFMTGo url for a tutorial on the OS module\r\n",
                "# Other URL under cell 11 "
            ],
            "outputs": [],
            "metadata": {}
        },
        {
            "cell_type": "code",
            "execution_count": 4,
            "source": [
                "print(dir(os))"
            ],
            "outputs": [
                {
                    "output_type": "stream",
                    "name": "stdout",
                    "text": [
                        "['DirEntry', 'F_OK', 'MutableMapping', 'O_APPEND', 'O_BINARY', 'O_CREAT', 'O_EXCL', 'O_NOINHERIT', 'O_RANDOM', 'O_RDONLY', 'O_RDWR', 'O_SEQUENTIAL', 'O_SHORT_LIVED', 'O_TEMPORARY', 'O_TEXT', 'O_TRUNC', 'O_WRONLY', 'P_DETACH', 'P_NOWAIT', 'P_NOWAITO', 'P_OVERLAY', 'P_WAIT', 'PathLike', 'R_OK', 'SEEK_CUR', 'SEEK_END', 'SEEK_SET', 'TMP_MAX', 'W_OK', 'X_OK', '_AddedDllDirectory', '_Environ', '__all__', '__builtins__', '__cached__', '__doc__', '__file__', '__loader__', '__name__', '__package__', '__spec__', '_check_methods', '_execvpe', '_exists', '_exit', '_fspath', '_get_exports_list', '_putenv', '_unsetenv', '_wrap_close', 'abc', 'abort', 'access', 'add_dll_directory', 'altsep', 'chdir', 'chmod', 'close', 'closerange', 'cpu_count', 'curdir', 'defpath', 'device_encoding', 'devnull', 'dup', 'dup2', 'environ', 'error', 'execl', 'execle', 'execlp', 'execlpe', 'execv', 'execve', 'execvp', 'execvpe', 'extsep', 'fdopen', 'fsdecode', 'fsencode', 'fspath', 'fstat', 'fsync', 'ftruncate', 'get_exec_path', 'get_handle_inheritable', 'get_inheritable', 'get_terminal_size', 'getcwd', 'getcwdb', 'getenv', 'getlogin', 'getpid', 'getppid', 'isatty', 'kill', 'linesep', 'link', 'listdir', 'lseek', 'lstat', 'makedirs', 'mkdir', 'name', 'open', 'pardir', 'path', 'pathsep', 'pipe', 'popen', 'putenv', 'read', 'readlink', 'remove', 'removedirs', 'rename', 'renames', 'replace', 'rmdir', 'scandir', 'sep', 'set_handle_inheritable', 'set_inheritable', 'spawnl', 'spawnle', 'spawnv', 'spawnve', 'st', 'startfile', 'stat', 'stat_result', 'statvfs_result', 'strerror', 'supports_bytes_environ', 'supports_dir_fd', 'supports_effective_ids', 'supports_fd', 'supports_follow_symlinks', 'symlink', 'sys', 'system', 'terminal_size', 'times', 'times_result', 'truncate', 'umask', 'uname_result', 'unlink', 'urandom', 'utime', 'waitpid', 'walk', 'write']\n"
                    ]
                }
            ],
            "metadata": {}
        },
        {
            "cell_type": "code",
            "execution_count": 5,
            "source": [
                "print(os.getcwd())"
            ],
            "outputs": [
                {
                    "output_type": "stream",
                    "name": "stdout",
                    "text": [
                        "s:\\BMI6017\\Week2\\exerPythOsTutorial\\exerPythOsTutorial\n"
                    ]
                }
            ],
            "metadata": {}
        },
        {
            "cell_type": "code",
            "execution_count": 6,
            "source": [
                "os.chdir(\"/BMI6017/Week2/exerPythOsTutorial\")\r\n"
            ],
            "outputs": [],
            "metadata": {}
        },
        {
            "cell_type": "code",
            "execution_count": 7,
            "source": [
                "print(os.getcwd())"
            ],
            "outputs": [
                {
                    "output_type": "stream",
                    "name": "stdout",
                    "text": [
                        "s:\\BMI6017\\Week2\\exerPythOsTutorial\n"
                    ]
                }
            ],
            "metadata": {}
        },
        {
            "cell_type": "code",
            "execution_count": 8,
            "source": [
                "os.chdir(\"/BMI6017/Week2/exerPythOsTutorial\\exerPythOsTutorial\")\r\n"
            ],
            "outputs": [],
            "metadata": {}
        },
        {
            "cell_type": "code",
            "execution_count": 9,
            "source": [
                "print(os.getcwd())"
            ],
            "outputs": [
                {
                    "output_type": "stream",
                    "name": "stdout",
                    "text": [
                        "s:\\BMI6017\\Week2\\exerPythOsTutorial\\exerPythOsTutorial\n"
                    ]
                }
            ],
            "metadata": {}
        },
        {
            "cell_type": "code",
            "execution_count": 10,
            "source": [
                "print(os.listdir())"
            ],
            "outputs": [
                {
                    "output_type": "stream",
                    "name": "stdout",
                    "text": [
                        "['.git', 'README.md', 'renametest', 'demo2.txt', 'renametest2', 'OSTutorial.ipynb']\n"
                    ]
                }
            ],
            "metadata": {}
        },
        {
            "cell_type": "code",
            "execution_count": 11,
            "source": [
                "os.mkdir('demo')\r\n",
                "# https://docs.python.org/3/library/os.html?highlight=os%20mkdir#os.mkdir"
            ],
            "outputs": [],
            "metadata": {}
        },
        {
            "cell_type": "code",
            "execution_count": 14,
            "source": [
                "os.makedirs('demo2/demo2/demo2')"
            ],
            "outputs": [],
            "metadata": {}
        },
        {
            "cell_type": "code",
            "execution_count": null,
            "source": [
                "os.rmdir('demo')"
            ],
            "outputs": [],
            "metadata": {}
        },
        {
            "cell_type": "code",
            "execution_count": 15,
            "source": [
                "os.removedirs('demo2/demo2/demo2')"
            ],
            "outputs": [],
            "metadata": {}
        },
        {
            "cell_type": "code",
            "execution_count": 18,
            "source": [
                "os.rename(\"demo.txt\", \"demo2.txt\")"
            ],
            "outputs": [],
            "metadata": {}
        },
        {
            "cell_type": "code",
            "execution_count": 19,
            "source": [
                "print(os.stat('demo2.txt').st_mtime)"
            ],
            "outputs": [
                {
                    "output_type": "stream",
                    "name": "stdout",
                    "text": [
                        "1630804084.0\n"
                    ]
                }
            ],
            "metadata": {}
        },
        {
            "cell_type": "code",
            "execution_count": 20,
            "source": [
                "from datetime import datetime"
            ],
            "outputs": [],
            "metadata": {}
        },
        {
            "cell_type": "code",
            "execution_count": 21,
            "source": [
                "mod_time = os.stat('demo2.txt').st_mtime"
            ],
            "outputs": [],
            "metadata": {}
        },
        {
            "cell_type": "code",
            "execution_count": 22,
            "source": [
                "print(datetime.fromtimestamp(mod_time))"
            ],
            "outputs": [
                {
                    "output_type": "stream",
                    "name": "stdout",
                    "text": [
                        "2021-09-04 19:08:04\n"
                    ]
                }
            ],
            "metadata": {}
        },
        {
            "cell_type": "code",
            "execution_count": 23,
            "source": [
                "os.chdir (\"s:\\BMI6017\")"
            ],
            "outputs": [],
            "metadata": {}
        },
        {
            "cell_type": "code",
            "execution_count": 24,
            "source": [
                "for dirpath, dirnames, filenames in os.walk('s:\\BMI6017'):\r\n",
                "    print('Current Path:', dirpath)\r\n",
                "    print('Directories:', dirnames)\r\n",
                "    print('Files:', filenames)\r\n",
                "    print()"
            ],
            "outputs": [
                {
                    "output_type": "stream",
                    "name": "stdout",
                    "text": [
                        "Current Path: s:\\BMI6017\n",
                        "Directories: ['myProject', 'exerGitPractice', 'python', 'exerPythCheckInstal', 'cmcntshexerPythCondaEnvPkgs', 'Week2', 'exerPythCondaEnvPkgs']\n",
                        "Files: []\n",
                        "\n",
                        "Current Path: s:\\BMI6017\\myProject\n",
                        "Directories: ['.git']\n",
                        "Files: ['README.md', 'Text.txt', 'RobertBarber.txt']\n",
                        "\n",
                        "Current Path: s:\\BMI6017\\myProject\\.git\n",
                        "Directories: ['hooks', 'info', 'refs', 'objects', 'logs']\n",
                        "Files: ['description', 'packed-refs', 'HEAD', 'config', 'index', 'COMMIT_EDITMSG']\n",
                        "\n",
                        "Current Path: s:\\BMI6017\\myProject\\.git\\hooks\n",
                        "Directories: []\n",
                        "Files: ['applypatch-msg.sample', 'commit-msg.sample', 'fsmonitor-watchman.sample', 'post-update.sample', 'pre-applypatch.sample', 'pre-commit.sample', 'pre-merge-commit.sample', 'pre-push.sample', 'pre-rebase.sample', 'pre-receive.sample', 'prepare-commit-msg.sample', 'push-to-checkout.sample', 'update.sample']\n",
                        "\n",
                        "Current Path: s:\\BMI6017\\myProject\\.git\\info\n",
                        "Directories: []\n",
                        "Files: ['exclude']\n",
                        "\n",
                        "Current Path: s:\\BMI6017\\myProject\\.git\\refs\n",
                        "Directories: ['heads', 'tags', 'remotes']\n",
                        "Files: []\n",
                        "\n",
                        "Current Path: s:\\BMI6017\\myProject\\.git\\refs\\heads\n",
                        "Directories: []\n",
                        "Files: ['main']\n",
                        "\n",
                        "Current Path: s:\\BMI6017\\myProject\\.git\\refs\\tags\n",
                        "Directories: []\n",
                        "Files: []\n",
                        "\n",
                        "Current Path: s:\\BMI6017\\myProject\\.git\\refs\\remotes\n",
                        "Directories: ['origin']\n",
                        "Files: []\n",
                        "\n",
                        "Current Path: s:\\BMI6017\\myProject\\.git\\refs\\remotes\\origin\n",
                        "Directories: []\n",
                        "Files: ['HEAD', 'main']\n",
                        "\n",
                        "Current Path: s:\\BMI6017\\myProject\\.git\\objects\n",
                        "Directories: ['pack', 'info', 'c1', '60', 'ef']\n",
                        "Files: []\n",
                        "\n",
                        "Current Path: s:\\BMI6017\\myProject\\.git\\objects\\pack\n",
                        "Directories: []\n",
                        "Files: ['pack-1859ad0d90f01c9b7ca853dd5f38935eb1cb0be2.pack', 'pack-1859ad0d90f01c9b7ca853dd5f38935eb1cb0be2.idx']\n",
                        "\n",
                        "Current Path: s:\\BMI6017\\myProject\\.git\\objects\\info\n",
                        "Directories: []\n",
                        "Files: []\n",
                        "\n",
                        "Current Path: s:\\BMI6017\\myProject\\.git\\objects\\c1\n",
                        "Directories: []\n",
                        "Files: ['a63340e37aecbbc3d9c85449a7cf1e0d9e0b59']\n",
                        "\n",
                        "Current Path: s:\\BMI6017\\myProject\\.git\\objects\\60\n",
                        "Directories: []\n",
                        "Files: ['50d99502ee7f64ab0e51f2fa950afd6732303c']\n",
                        "\n",
                        "Current Path: s:\\BMI6017\\myProject\\.git\\objects\\ef\n",
                        "Directories: []\n",
                        "Files: ['76eefaee835e13da5955239c00e9eb15793b20']\n",
                        "\n",
                        "Current Path: s:\\BMI6017\\myProject\\.git\\logs\n",
                        "Directories: ['refs']\n",
                        "Files: ['HEAD']\n",
                        "\n",
                        "Current Path: s:\\BMI6017\\myProject\\.git\\logs\\refs\n",
                        "Directories: ['remotes', 'heads']\n",
                        "Files: []\n",
                        "\n",
                        "Current Path: s:\\BMI6017\\myProject\\.git\\logs\\refs\\remotes\n",
                        "Directories: ['origin']\n",
                        "Files: []\n",
                        "\n",
                        "Current Path: s:\\BMI6017\\myProject\\.git\\logs\\refs\\remotes\\origin\n",
                        "Directories: []\n",
                        "Files: ['HEAD', 'main']\n",
                        "\n",
                        "Current Path: s:\\BMI6017\\myProject\\.git\\logs\\refs\\heads\n",
                        "Directories: []\n",
                        "Files: ['main']\n",
                        "\n",
                        "Current Path: s:\\BMI6017\\exerGitPractice\n",
                        "Directories: ['.git']\n",
                        "Files: ['Fork and Clone a GitHub Repository Screenshot Instructions.pdf', 'Initialize New Folder For Git and Push to GitHub Screenshot Instructions.pdf', 'README.md', 'gitPracticeSample.png', '3- Jan 11, 2021 email.pdf']\n",
                        "\n",
                        "Current Path: s:\\BMI6017\\exerGitPractice\\.git\n",
                        "Directories: ['hooks', 'info', 'refs', 'objects', 'logs']\n",
                        "Files: ['description', 'packed-refs', 'HEAD', 'config', 'COMMIT_EDITMSG', 'index']\n",
                        "\n",
                        "Current Path: s:\\BMI6017\\exerGitPractice\\.git\\hooks\n",
                        "Directories: []\n",
                        "Files: ['applypatch-msg.sample', 'commit-msg.sample', 'fsmonitor-watchman.sample', 'post-update.sample', 'pre-applypatch.sample', 'pre-commit.sample', 'pre-merge-commit.sample', 'pre-push.sample', 'pre-rebase.sample', 'pre-receive.sample', 'prepare-commit-msg.sample', 'push-to-checkout.sample', 'update.sample']\n",
                        "\n",
                        "Current Path: s:\\BMI6017\\exerGitPractice\\.git\\info\n",
                        "Directories: []\n",
                        "Files: ['exclude']\n",
                        "\n",
                        "Current Path: s:\\BMI6017\\exerGitPractice\\.git\\refs\n",
                        "Directories: ['heads', 'tags', 'remotes']\n",
                        "Files: []\n",
                        "\n",
                        "Current Path: s:\\BMI6017\\exerGitPractice\\.git\\refs\\heads\n",
                        "Directories: []\n",
                        "Files: ['master']\n",
                        "\n",
                        "Current Path: s:\\BMI6017\\exerGitPractice\\.git\\refs\\tags\n",
                        "Directories: []\n",
                        "Files: []\n",
                        "\n",
                        "Current Path: s:\\BMI6017\\exerGitPractice\\.git\\refs\\remotes\n",
                        "Directories: ['origin']\n",
                        "Files: []\n",
                        "\n",
                        "Current Path: s:\\BMI6017\\exerGitPractice\\.git\\refs\\remotes\\origin\n",
                        "Directories: []\n",
                        "Files: ['HEAD', 'master']\n",
                        "\n",
                        "Current Path: s:\\BMI6017\\exerGitPractice\\.git\\objects\n",
                        "Directories: ['pack', 'info', '7b', '2f', 'a7', '8c', '26', 'b8']\n",
                        "Files: []\n",
                        "\n",
                        "Current Path: s:\\BMI6017\\exerGitPractice\\.git\\objects\\pack\n",
                        "Directories: []\n",
                        "Files: ['pack-68becb6564e32f7ba31be87558bf57752bed3b16.pack', 'pack-68becb6564e32f7ba31be87558bf57752bed3b16.idx']\n",
                        "\n",
                        "Current Path: s:\\BMI6017\\exerGitPractice\\.git\\objects\\info\n",
                        "Directories: []\n",
                        "Files: []\n",
                        "\n",
                        "Current Path: s:\\BMI6017\\exerGitPractice\\.git\\objects\\7b\n",
                        "Directories: []\n",
                        "Files: ['6c57d46bdf3e2b81043d81d44651ccfa5b1723']\n",
                        "\n",
                        "Current Path: s:\\BMI6017\\exerGitPractice\\.git\\objects\\2f\n",
                        "Directories: []\n",
                        "Files: ['7bd90da9ef952c6207162d42c43b90e500b524']\n",
                        "\n",
                        "Current Path: s:\\BMI6017\\exerGitPractice\\.git\\objects\\a7\n",
                        "Directories: []\n",
                        "Files: ['bf13a65eac00ceb6629d76e5ff481cb9a4d646']\n",
                        "\n",
                        "Current Path: s:\\BMI6017\\exerGitPractice\\.git\\objects\\8c\n",
                        "Directories: []\n",
                        "Files: ['1f17182360f1f19e34ef12f8881060373f5f5c']\n",
                        "\n",
                        "Current Path: s:\\BMI6017\\exerGitPractice\\.git\\objects\\26\n",
                        "Directories: []\n",
                        "Files: ['c19b732e149031320b3a08691f8a22469c5244']\n",
                        "\n",
                        "Current Path: s:\\BMI6017\\exerGitPractice\\.git\\objects\\b8\n",
                        "Directories: []\n",
                        "Files: ['0df69cc4db4c30f3429dc0a793c9d5bffdb2d9']\n",
                        "\n",
                        "Current Path: s:\\BMI6017\\exerGitPractice\\.git\\logs\n",
                        "Directories: ['refs']\n",
                        "Files: ['HEAD']\n",
                        "\n",
                        "Current Path: s:\\BMI6017\\exerGitPractice\\.git\\logs\\refs\n",
                        "Directories: ['remotes', 'heads']\n",
                        "Files: []\n",
                        "\n",
                        "Current Path: s:\\BMI6017\\exerGitPractice\\.git\\logs\\refs\\remotes\n",
                        "Directories: ['origin']\n",
                        "Files: []\n",
                        "\n",
                        "Current Path: s:\\BMI6017\\exerGitPractice\\.git\\logs\\refs\\remotes\\origin\n",
                        "Directories: []\n",
                        "Files: ['HEAD', 'master']\n",
                        "\n",
                        "Current Path: s:\\BMI6017\\exerGitPractice\\.git\\logs\\refs\\heads\n",
                        "Directories: []\n",
                        "Files: ['master']\n",
                        "\n",
                        "Current Path: s:\\BMI6017\\python\n",
                        "Directories: []\n",
                        "Files: []\n",
                        "\n",
                        "Current Path: s:\\BMI6017\\exerPythCheckInstal\n",
                        "Directories: ['exerPythCheckInstal', 'exerPythCheckInstal-1']\n",
                        "Files: []\n",
                        "\n",
                        "Current Path: s:\\BMI6017\\exerPythCheckInstal\\exerPythCheckInstal\n",
                        "Directories: ['.git']\n",
                        "Files: ['README.md']\n",
                        "\n",
                        "Current Path: s:\\BMI6017\\exerPythCheckInstal\\exerPythCheckInstal\\.git\n",
                        "Directories: ['hooks', 'info', 'refs', 'objects', 'logs']\n",
                        "Files: ['description', 'packed-refs', 'HEAD', 'config', 'index']\n",
                        "\n",
                        "Current Path: s:\\BMI6017\\exerPythCheckInstal\\exerPythCheckInstal\\.git\\hooks\n",
                        "Directories: []\n",
                        "Files: ['applypatch-msg.sample', 'commit-msg.sample', 'fsmonitor-watchman.sample', 'post-update.sample', 'pre-applypatch.sample', 'pre-commit.sample', 'pre-merge-commit.sample', 'pre-push.sample', 'pre-rebase.sample', 'pre-receive.sample', 'prepare-commit-msg.sample', 'push-to-checkout.sample', 'update.sample']\n",
                        "\n",
                        "Current Path: s:\\BMI6017\\exerPythCheckInstal\\exerPythCheckInstal\\.git\\info\n",
                        "Directories: []\n",
                        "Files: ['exclude']\n",
                        "\n",
                        "Current Path: s:\\BMI6017\\exerPythCheckInstal\\exerPythCheckInstal\\.git\\refs\n",
                        "Directories: ['heads', 'tags', 'remotes']\n",
                        "Files: []\n",
                        "\n",
                        "Current Path: s:\\BMI6017\\exerPythCheckInstal\\exerPythCheckInstal\\.git\\refs\\heads\n",
                        "Directories: []\n",
                        "Files: ['master']\n",
                        "\n",
                        "Current Path: s:\\BMI6017\\exerPythCheckInstal\\exerPythCheckInstal\\.git\\refs\\tags\n",
                        "Directories: []\n",
                        "Files: []\n",
                        "\n",
                        "Current Path: s:\\BMI6017\\exerPythCheckInstal\\exerPythCheckInstal\\.git\\refs\\remotes\n",
                        "Directories: ['origin']\n",
                        "Files: []\n",
                        "\n",
                        "Current Path: s:\\BMI6017\\exerPythCheckInstal\\exerPythCheckInstal\\.git\\refs\\remotes\\origin\n",
                        "Directories: []\n",
                        "Files: ['HEAD']\n",
                        "\n",
                        "Current Path: s:\\BMI6017\\exerPythCheckInstal\\exerPythCheckInstal\\.git\\objects\n",
                        "Directories: ['pack', 'info']\n",
                        "Files: []\n",
                        "\n",
                        "Current Path: s:\\BMI6017\\exerPythCheckInstal\\exerPythCheckInstal\\.git\\objects\\pack\n",
                        "Directories: []\n",
                        "Files: ['pack-2635f4781e0a9d1f14fdd830d97d535babf72799.pack', 'pack-2635f4781e0a9d1f14fdd830d97d535babf72799.idx']\n",
                        "\n",
                        "Current Path: s:\\BMI6017\\exerPythCheckInstal\\exerPythCheckInstal\\.git\\objects\\info\n",
                        "Directories: []\n",
                        "Files: []\n",
                        "\n",
                        "Current Path: s:\\BMI6017\\exerPythCheckInstal\\exerPythCheckInstal\\.git\\logs\n",
                        "Directories: ['refs']\n",
                        "Files: ['HEAD']\n",
                        "\n",
                        "Current Path: s:\\BMI6017\\exerPythCheckInstal\\exerPythCheckInstal\\.git\\logs\\refs\n",
                        "Directories: ['remotes', 'heads']\n",
                        "Files: []\n",
                        "\n",
                        "Current Path: s:\\BMI6017\\exerPythCheckInstal\\exerPythCheckInstal\\.git\\logs\\refs\\remotes\n",
                        "Directories: ['origin']\n",
                        "Files: []\n",
                        "\n",
                        "Current Path: s:\\BMI6017\\exerPythCheckInstal\\exerPythCheckInstal\\.git\\logs\\refs\\remotes\\origin\n",
                        "Directories: []\n",
                        "Files: ['HEAD']\n",
                        "\n",
                        "Current Path: s:\\BMI6017\\exerPythCheckInstal\\exerPythCheckInstal\\.git\\logs\\refs\\heads\n",
                        "Directories: []\n",
                        "Files: ['master']\n",
                        "\n",
                        "Current Path: s:\\BMI6017\\exerPythCheckInstal\\exerPythCheckInstal-1\n",
                        "Directories: ['.git']\n",
                        "Files: ['README.md']\n",
                        "\n",
                        "Current Path: s:\\BMI6017\\exerPythCheckInstal\\exerPythCheckInstal-1\\.git\n",
                        "Directories: ['hooks', 'info', 'refs', 'objects', 'logs']\n",
                        "Files: ['description', 'packed-refs', 'HEAD', 'config', 'index']\n",
                        "\n",
                        "Current Path: s:\\BMI6017\\exerPythCheckInstal\\exerPythCheckInstal-1\\.git\\hooks\n",
                        "Directories: []\n",
                        "Files: ['applypatch-msg.sample', 'commit-msg.sample', 'fsmonitor-watchman.sample', 'post-update.sample', 'pre-applypatch.sample', 'pre-commit.sample', 'pre-merge-commit.sample', 'pre-push.sample', 'pre-rebase.sample', 'pre-receive.sample', 'prepare-commit-msg.sample', 'push-to-checkout.sample', 'update.sample']\n",
                        "\n",
                        "Current Path: s:\\BMI6017\\exerPythCheckInstal\\exerPythCheckInstal-1\\.git\\info\n",
                        "Directories: []\n",
                        "Files: ['exclude']\n",
                        "\n",
                        "Current Path: s:\\BMI6017\\exerPythCheckInstal\\exerPythCheckInstal-1\\.git\\refs\n",
                        "Directories: ['heads', 'tags', 'remotes']\n",
                        "Files: []\n",
                        "\n",
                        "Current Path: s:\\BMI6017\\exerPythCheckInstal\\exerPythCheckInstal-1\\.git\\refs\\heads\n",
                        "Directories: []\n",
                        "Files: ['master']\n",
                        "\n",
                        "Current Path: s:\\BMI6017\\exerPythCheckInstal\\exerPythCheckInstal-1\\.git\\refs\\tags\n",
                        "Directories: []\n",
                        "Files: []\n",
                        "\n",
                        "Current Path: s:\\BMI6017\\exerPythCheckInstal\\exerPythCheckInstal-1\\.git\\refs\\remotes\n",
                        "Directories: ['origin']\n",
                        "Files: []\n",
                        "\n",
                        "Current Path: s:\\BMI6017\\exerPythCheckInstal\\exerPythCheckInstal-1\\.git\\refs\\remotes\\origin\n",
                        "Directories: []\n",
                        "Files: ['HEAD']\n",
                        "\n",
                        "Current Path: s:\\BMI6017\\exerPythCheckInstal\\exerPythCheckInstal-1\\.git\\objects\n",
                        "Directories: ['pack', 'info']\n",
                        "Files: []\n",
                        "\n",
                        "Current Path: s:\\BMI6017\\exerPythCheckInstal\\exerPythCheckInstal-1\\.git\\objects\\pack\n",
                        "Directories: []\n",
                        "Files: ['pack-2635f4781e0a9d1f14fdd830d97d535babf72799.pack', 'pack-2635f4781e0a9d1f14fdd830d97d535babf72799.idx']\n",
                        "\n",
                        "Current Path: s:\\BMI6017\\exerPythCheckInstal\\exerPythCheckInstal-1\\.git\\objects\\info\n",
                        "Directories: []\n",
                        "Files: []\n",
                        "\n",
                        "Current Path: s:\\BMI6017\\exerPythCheckInstal\\exerPythCheckInstal-1\\.git\\logs\n",
                        "Directories: ['refs']\n",
                        "Files: ['HEAD']\n",
                        "\n",
                        "Current Path: s:\\BMI6017\\exerPythCheckInstal\\exerPythCheckInstal-1\\.git\\logs\\refs\n",
                        "Directories: ['remotes', 'heads']\n",
                        "Files: []\n",
                        "\n",
                        "Current Path: s:\\BMI6017\\exerPythCheckInstal\\exerPythCheckInstal-1\\.git\\logs\\refs\\remotes\n",
                        "Directories: ['origin']\n",
                        "Files: []\n",
                        "\n",
                        "Current Path: s:\\BMI6017\\exerPythCheckInstal\\exerPythCheckInstal-1\\.git\\logs\\refs\\remotes\\origin\n",
                        "Directories: []\n",
                        "Files: ['HEAD']\n",
                        "\n",
                        "Current Path: s:\\BMI6017\\exerPythCheckInstal\\exerPythCheckInstal-1\\.git\\logs\\refs\\heads\n",
                        "Directories: []\n",
                        "Files: ['master']\n",
                        "\n",
                        "Current Path: s:\\BMI6017\\cmcntshexerPythCondaEnvPkgs\n",
                        "Directories: ['exerPythCondaEnvPkgs']\n",
                        "Files: []\n",
                        "\n",
                        "Current Path: s:\\BMI6017\\cmcntshexerPythCondaEnvPkgs\\exerPythCondaEnvPkgs\n",
                        "Directories: ['.git']\n",
                        "Files: ['README.md']\n",
                        "\n",
                        "Current Path: s:\\BMI6017\\cmcntshexerPythCondaEnvPkgs\\exerPythCondaEnvPkgs\\.git\n",
                        "Directories: ['hooks', 'info', 'refs', 'objects', 'logs']\n",
                        "Files: ['description', 'packed-refs', 'HEAD', 'config', 'index']\n",
                        "\n",
                        "Current Path: s:\\BMI6017\\cmcntshexerPythCondaEnvPkgs\\exerPythCondaEnvPkgs\\.git\\hooks\n",
                        "Directories: []\n",
                        "Files: ['applypatch-msg.sample', 'commit-msg.sample', 'fsmonitor-watchman.sample', 'post-update.sample', 'pre-applypatch.sample', 'pre-commit.sample', 'pre-merge-commit.sample', 'pre-push.sample', 'pre-rebase.sample', 'pre-receive.sample', 'prepare-commit-msg.sample', 'push-to-checkout.sample', 'update.sample']\n",
                        "\n",
                        "Current Path: s:\\BMI6017\\cmcntshexerPythCondaEnvPkgs\\exerPythCondaEnvPkgs\\.git\\info\n",
                        "Directories: []\n",
                        "Files: ['exclude']\n",
                        "\n",
                        "Current Path: s:\\BMI6017\\cmcntshexerPythCondaEnvPkgs\\exerPythCondaEnvPkgs\\.git\\refs\n",
                        "Directories: ['heads', 'tags', 'remotes']\n",
                        "Files: []\n",
                        "\n",
                        "Current Path: s:\\BMI6017\\cmcntshexerPythCondaEnvPkgs\\exerPythCondaEnvPkgs\\.git\\refs\\heads\n",
                        "Directories: []\n",
                        "Files: ['master']\n",
                        "\n",
                        "Current Path: s:\\BMI6017\\cmcntshexerPythCondaEnvPkgs\\exerPythCondaEnvPkgs\\.git\\refs\\tags\n",
                        "Directories: []\n",
                        "Files: []\n",
                        "\n",
                        "Current Path: s:\\BMI6017\\cmcntshexerPythCondaEnvPkgs\\exerPythCondaEnvPkgs\\.git\\refs\\remotes\n",
                        "Directories: ['origin']\n",
                        "Files: []\n",
                        "\n",
                        "Current Path: s:\\BMI6017\\cmcntshexerPythCondaEnvPkgs\\exerPythCondaEnvPkgs\\.git\\refs\\remotes\\origin\n",
                        "Directories: []\n",
                        "Files: ['HEAD']\n",
                        "\n",
                        "Current Path: s:\\BMI6017\\cmcntshexerPythCondaEnvPkgs\\exerPythCondaEnvPkgs\\.git\\objects\n",
                        "Directories: ['pack', 'info']\n",
                        "Files: []\n",
                        "\n",
                        "Current Path: s:\\BMI6017\\cmcntshexerPythCondaEnvPkgs\\exerPythCondaEnvPkgs\\.git\\objects\\pack\n",
                        "Directories: []\n",
                        "Files: ['pack-99d5ab24c331142ec1af2ac815b6b97bc2cf6d14.pack', 'pack-99d5ab24c331142ec1af2ac815b6b97bc2cf6d14.idx']\n",
                        "\n",
                        "Current Path: s:\\BMI6017\\cmcntshexerPythCondaEnvPkgs\\exerPythCondaEnvPkgs\\.git\\objects\\info\n",
                        "Directories: []\n",
                        "Files: []\n",
                        "\n",
                        "Current Path: s:\\BMI6017\\cmcntshexerPythCondaEnvPkgs\\exerPythCondaEnvPkgs\\.git\\logs\n",
                        "Directories: ['refs']\n",
                        "Files: ['HEAD']\n",
                        "\n",
                        "Current Path: s:\\BMI6017\\cmcntshexerPythCondaEnvPkgs\\exerPythCondaEnvPkgs\\.git\\logs\\refs\n",
                        "Directories: ['remotes', 'heads']\n",
                        "Files: []\n",
                        "\n",
                        "Current Path: s:\\BMI6017\\cmcntshexerPythCondaEnvPkgs\\exerPythCondaEnvPkgs\\.git\\logs\\refs\\remotes\n",
                        "Directories: ['origin']\n",
                        "Files: []\n",
                        "\n",
                        "Current Path: s:\\BMI6017\\cmcntshexerPythCondaEnvPkgs\\exerPythCondaEnvPkgs\\.git\\logs\\refs\\remotes\\origin\n",
                        "Directories: []\n",
                        "Files: ['HEAD']\n",
                        "\n",
                        "Current Path: s:\\BMI6017\\cmcntshexerPythCondaEnvPkgs\\exerPythCondaEnvPkgs\\.git\\logs\\refs\\heads\n",
                        "Directories: []\n",
                        "Files: ['master']\n",
                        "\n",
                        "Current Path: s:\\BMI6017\\Week2\n",
                        "Directories: ['exerPythModPackTutorial', 'exerPythOsTutorial', 'exerPythFilesTutorial']\n",
                        "Files: []\n",
                        "\n",
                        "Current Path: s:\\BMI6017\\Week2\\exerPythModPackTutorial\n",
                        "Directories: ['exerPythModPackTutorial']\n",
                        "Files: []\n",
                        "\n",
                        "Current Path: s:\\BMI6017\\Week2\\exerPythModPackTutorial\\exerPythModPackTutorial\n",
                        "Directories: ['.git', '__pycache__']\n",
                        "Files: ['README.md', 'mod.py', 'fact.py', 'importer.py']\n",
                        "\n",
                        "Current Path: s:\\BMI6017\\Week2\\exerPythModPackTutorial\\exerPythModPackTutorial\\.git\n",
                        "Directories: ['hooks', 'info', 'refs', 'objects', 'logs']\n",
                        "Files: ['description', 'packed-refs', 'HEAD', 'config', 'index', 'COMMIT_EDITMSG']\n",
                        "\n",
                        "Current Path: s:\\BMI6017\\Week2\\exerPythModPackTutorial\\exerPythModPackTutorial\\.git\\hooks\n",
                        "Directories: []\n",
                        "Files: ['applypatch-msg.sample', 'commit-msg.sample', 'fsmonitor-watchman.sample', 'post-update.sample', 'pre-applypatch.sample', 'pre-commit.sample', 'pre-merge-commit.sample', 'pre-push.sample', 'pre-rebase.sample', 'pre-receive.sample', 'prepare-commit-msg.sample', 'push-to-checkout.sample', 'update.sample']\n",
                        "\n",
                        "Current Path: s:\\BMI6017\\Week2\\exerPythModPackTutorial\\exerPythModPackTutorial\\.git\\info\n",
                        "Directories: []\n",
                        "Files: ['exclude']\n",
                        "\n",
                        "Current Path: s:\\BMI6017\\Week2\\exerPythModPackTutorial\\exerPythModPackTutorial\\.git\\refs\n",
                        "Directories: ['heads', 'tags', 'remotes']\n",
                        "Files: []\n",
                        "\n",
                        "Current Path: s:\\BMI6017\\Week2\\exerPythModPackTutorial\\exerPythModPackTutorial\\.git\\refs\\heads\n",
                        "Directories: []\n",
                        "Files: ['master']\n",
                        "\n",
                        "Current Path: s:\\BMI6017\\Week2\\exerPythModPackTutorial\\exerPythModPackTutorial\\.git\\refs\\tags\n",
                        "Directories: []\n",
                        "Files: []\n",
                        "\n",
                        "Current Path: s:\\BMI6017\\Week2\\exerPythModPackTutorial\\exerPythModPackTutorial\\.git\\refs\\remotes\n",
                        "Directories: ['origin']\n",
                        "Files: []\n",
                        "\n",
                        "Current Path: s:\\BMI6017\\Week2\\exerPythModPackTutorial\\exerPythModPackTutorial\\.git\\refs\\remotes\\origin\n",
                        "Directories: []\n",
                        "Files: ['HEAD', 'master']\n",
                        "\n",
                        "Current Path: s:\\BMI6017\\Week2\\exerPythModPackTutorial\\exerPythModPackTutorial\\.git\\objects\n",
                        "Directories: ['pack', 'info', '2f', '7b', '24', '37', 'cd']\n",
                        "Files: []\n",
                        "\n",
                        "Current Path: s:\\BMI6017\\Week2\\exerPythModPackTutorial\\exerPythModPackTutorial\\.git\\objects\\pack\n",
                        "Directories: []\n",
                        "Files: ['pack-4e7aa90a0b326de104a53d45de5cbfb9a40b0864.pack', 'pack-4e7aa90a0b326de104a53d45de5cbfb9a40b0864.idx']\n",
                        "\n",
                        "Current Path: s:\\BMI6017\\Week2\\exerPythModPackTutorial\\exerPythModPackTutorial\\.git\\objects\\info\n",
                        "Directories: []\n",
                        "Files: []\n",
                        "\n",
                        "Current Path: s:\\BMI6017\\Week2\\exerPythModPackTutorial\\exerPythModPackTutorial\\.git\\objects\\2f\n",
                        "Directories: []\n",
                        "Files: ['9ad34603916883c48307c12c13198a010945ae']\n",
                        "\n",
                        "Current Path: s:\\BMI6017\\Week2\\exerPythModPackTutorial\\exerPythModPackTutorial\\.git\\objects\\7b\n",
                        "Directories: []\n",
                        "Files: ['b08485d50473441b765fdd63473940c915e921']\n",
                        "\n",
                        "Current Path: s:\\BMI6017\\Week2\\exerPythModPackTutorial\\exerPythModPackTutorial\\.git\\objects\\24\n",
                        "Directories: []\n",
                        "Files: ['a73abc2e2876acee6459bd8c0524c29fe89477']\n",
                        "\n",
                        "Current Path: s:\\BMI6017\\Week2\\exerPythModPackTutorial\\exerPythModPackTutorial\\.git\\objects\\37\n",
                        "Directories: []\n",
                        "Files: ['94b13032a971aa340eabb531279e9fb361858f']\n",
                        "\n",
                        "Current Path: s:\\BMI6017\\Week2\\exerPythModPackTutorial\\exerPythModPackTutorial\\.git\\objects\\cd\n",
                        "Directories: []\n",
                        "Files: ['5e652ecb9c0ad198369caac73a2a541e22471f']\n",
                        "\n",
                        "Current Path: s:\\BMI6017\\Week2\\exerPythModPackTutorial\\exerPythModPackTutorial\\.git\\logs\n",
                        "Directories: ['refs']\n",
                        "Files: ['HEAD']\n",
                        "\n",
                        "Current Path: s:\\BMI6017\\Week2\\exerPythModPackTutorial\\exerPythModPackTutorial\\.git\\logs\\refs\n",
                        "Directories: ['remotes', 'heads']\n",
                        "Files: []\n",
                        "\n",
                        "Current Path: s:\\BMI6017\\Week2\\exerPythModPackTutorial\\exerPythModPackTutorial\\.git\\logs\\refs\\remotes\n",
                        "Directories: ['origin']\n",
                        "Files: []\n",
                        "\n",
                        "Current Path: s:\\BMI6017\\Week2\\exerPythModPackTutorial\\exerPythModPackTutorial\\.git\\logs\\refs\\remotes\\origin\n",
                        "Directories: []\n",
                        "Files: ['HEAD', 'master']\n",
                        "\n",
                        "Current Path: s:\\BMI6017\\Week2\\exerPythModPackTutorial\\exerPythModPackTutorial\\.git\\logs\\refs\\heads\n",
                        "Directories: []\n",
                        "Files: ['master']\n",
                        "\n",
                        "Current Path: s:\\BMI6017\\Week2\\exerPythModPackTutorial\\exerPythModPackTutorial\\__pycache__\n",
                        "Directories: []\n",
                        "Files: ['mod.cpython-38.pyc', 'mod.cpython-39.pyc', 'fact.cpython-39.pyc']\n",
                        "\n",
                        "Current Path: s:\\BMI6017\\Week2\\exerPythOsTutorial\n",
                        "Directories: ['exerPythOsTutorial']\n",
                        "Files: []\n",
                        "\n",
                        "Current Path: s:\\BMI6017\\Week2\\exerPythOsTutorial\\exerPythOsTutorial\n",
                        "Directories: ['.git', 'renametest', 'renametest2', 'demo']\n",
                        "Files: ['README.md', 'demo2.txt', 'OSTutorial.ipynb']\n",
                        "\n",
                        "Current Path: s:\\BMI6017\\Week2\\exerPythOsTutorial\\exerPythOsTutorial\\.git\n",
                        "Directories: ['hooks', 'info', 'refs', 'objects', 'logs']\n",
                        "Files: ['description', 'packed-refs', 'HEAD', 'config', 'index']\n",
                        "\n",
                        "Current Path: s:\\BMI6017\\Week2\\exerPythOsTutorial\\exerPythOsTutorial\\.git\\hooks\n",
                        "Directories: []\n",
                        "Files: ['applypatch-msg.sample', 'commit-msg.sample', 'fsmonitor-watchman.sample', 'post-update.sample', 'pre-applypatch.sample', 'pre-commit.sample', 'pre-merge-commit.sample', 'pre-push.sample', 'pre-rebase.sample', 'pre-receive.sample', 'prepare-commit-msg.sample', 'push-to-checkout.sample', 'update.sample']\n",
                        "\n",
                        "Current Path: s:\\BMI6017\\Week2\\exerPythOsTutorial\\exerPythOsTutorial\\.git\\info\n",
                        "Directories: []\n",
                        "Files: ['exclude']\n",
                        "\n",
                        "Current Path: s:\\BMI6017\\Week2\\exerPythOsTutorial\\exerPythOsTutorial\\.git\\refs\n",
                        "Directories: ['heads', 'tags', 'remotes']\n",
                        "Files: []\n",
                        "\n",
                        "Current Path: s:\\BMI6017\\Week2\\exerPythOsTutorial\\exerPythOsTutorial\\.git\\refs\\heads\n",
                        "Directories: []\n",
                        "Files: ['master']\n",
                        "\n",
                        "Current Path: s:\\BMI6017\\Week2\\exerPythOsTutorial\\exerPythOsTutorial\\.git\\refs\\tags\n",
                        "Directories: []\n",
                        "Files: []\n",
                        "\n",
                        "Current Path: s:\\BMI6017\\Week2\\exerPythOsTutorial\\exerPythOsTutorial\\.git\\refs\\remotes\n",
                        "Directories: ['origin']\n",
                        "Files: []\n",
                        "\n",
                        "Current Path: s:\\BMI6017\\Week2\\exerPythOsTutorial\\exerPythOsTutorial\\.git\\refs\\remotes\\origin\n",
                        "Directories: []\n",
                        "Files: ['HEAD']\n",
                        "\n",
                        "Current Path: s:\\BMI6017\\Week2\\exerPythOsTutorial\\exerPythOsTutorial\\.git\\objects\n",
                        "Directories: ['pack', 'info']\n",
                        "Files: []\n",
                        "\n",
                        "Current Path: s:\\BMI6017\\Week2\\exerPythOsTutorial\\exerPythOsTutorial\\.git\\objects\\pack\n",
                        "Directories: []\n",
                        "Files: ['pack-3dcd781a7c96ffa7eb4340c2085d98e627b1fcc6.pack', 'pack-3dcd781a7c96ffa7eb4340c2085d98e627b1fcc6.idx']\n",
                        "\n",
                        "Current Path: s:\\BMI6017\\Week2\\exerPythOsTutorial\\exerPythOsTutorial\\.git\\objects\\info\n",
                        "Directories: []\n",
                        "Files: []\n",
                        "\n",
                        "Current Path: s:\\BMI6017\\Week2\\exerPythOsTutorial\\exerPythOsTutorial\\.git\\logs\n",
                        "Directories: ['refs']\n",
                        "Files: ['HEAD']\n",
                        "\n",
                        "Current Path: s:\\BMI6017\\Week2\\exerPythOsTutorial\\exerPythOsTutorial\\.git\\logs\\refs\n",
                        "Directories: ['remotes', 'heads']\n",
                        "Files: []\n",
                        "\n",
                        "Current Path: s:\\BMI6017\\Week2\\exerPythOsTutorial\\exerPythOsTutorial\\.git\\logs\\refs\\remotes\n",
                        "Directories: ['origin']\n",
                        "Files: []\n",
                        "\n",
                        "Current Path: s:\\BMI6017\\Week2\\exerPythOsTutorial\\exerPythOsTutorial\\.git\\logs\\refs\\remotes\\origin\n",
                        "Directories: []\n",
                        "Files: ['HEAD']\n",
                        "\n",
                        "Current Path: s:\\BMI6017\\Week2\\exerPythOsTutorial\\exerPythOsTutorial\\.git\\logs\\refs\\heads\n",
                        "Directories: []\n",
                        "Files: ['master']\n",
                        "\n",
                        "Current Path: s:\\BMI6017\\Week2\\exerPythOsTutorial\\exerPythOsTutorial\\renametest\n",
                        "Directories: []\n",
                        "Files: []\n",
                        "\n",
                        "Current Path: s:\\BMI6017\\Week2\\exerPythOsTutorial\\exerPythOsTutorial\\renametest2\n",
                        "Directories: []\n",
                        "Files: []\n",
                        "\n",
                        "Current Path: s:\\BMI6017\\Week2\\exerPythOsTutorial\\exerPythOsTutorial\\demo\n",
                        "Directories: []\n",
                        "Files: []\n",
                        "\n",
                        "Current Path: s:\\BMI6017\\Week2\\exerPythFilesTutorial\n",
                        "Directories: ['.git']\n",
                        "Files: ['README.md', 'TEXT.txt', 'test2.txt', 'text_copy.txt', 'hw.jpg', 'FilesTutorial.ipynb', 'hw_copy.jpg', 'hw_copy2.jpg', 'hw_copy.txt']\n",
                        "\n",
                        "Current Path: s:\\BMI6017\\Week2\\exerPythFilesTutorial\\.git\n",
                        "Directories: ['hooks', 'info', 'refs', 'objects', 'logs']\n",
                        "Files: ['description', 'packed-refs', 'HEAD', 'config', 'index', 'COMMIT_EDITMSG']\n",
                        "\n",
                        "Current Path: s:\\BMI6017\\Week2\\exerPythFilesTutorial\\.git\\hooks\n",
                        "Directories: []\n",
                        "Files: ['applypatch-msg.sample', 'commit-msg.sample', 'fsmonitor-watchman.sample', 'post-update.sample', 'pre-applypatch.sample', 'pre-commit.sample', 'pre-merge-commit.sample', 'pre-push.sample', 'pre-rebase.sample', 'pre-receive.sample', 'prepare-commit-msg.sample', 'push-to-checkout.sample', 'update.sample']\n",
                        "\n",
                        "Current Path: s:\\BMI6017\\Week2\\exerPythFilesTutorial\\.git\\info\n",
                        "Directories: []\n",
                        "Files: ['exclude']\n",
                        "\n",
                        "Current Path: s:\\BMI6017\\Week2\\exerPythFilesTutorial\\.git\\refs\n",
                        "Directories: ['heads', 'tags', 'remotes']\n",
                        "Files: []\n",
                        "\n",
                        "Current Path: s:\\BMI6017\\Week2\\exerPythFilesTutorial\\.git\\refs\\heads\n",
                        "Directories: []\n",
                        "Files: ['master']\n",
                        "\n",
                        "Current Path: s:\\BMI6017\\Week2\\exerPythFilesTutorial\\.git\\refs\\tags\n",
                        "Directories: []\n",
                        "Files: []\n",
                        "\n",
                        "Current Path: s:\\BMI6017\\Week2\\exerPythFilesTutorial\\.git\\refs\\remotes\n",
                        "Directories: ['origin']\n",
                        "Files: []\n",
                        "\n",
                        "Current Path: s:\\BMI6017\\Week2\\exerPythFilesTutorial\\.git\\refs\\remotes\\origin\n",
                        "Directories: []\n",
                        "Files: ['HEAD']\n",
                        "\n",
                        "Current Path: s:\\BMI6017\\Week2\\exerPythFilesTutorial\\.git\\objects\n",
                        "Directories: ['pack', 'info', 'eb', '7d', '6d', 'd3', 'cd', 'cb']\n",
                        "Files: []\n",
                        "\n",
                        "Current Path: s:\\BMI6017\\Week2\\exerPythFilesTutorial\\.git\\objects\\pack\n",
                        "Directories: []\n",
                        "Files: ['pack-1624ab53964f3d2e186ca219311dabe384fe0d6f.pack', 'pack-1624ab53964f3d2e186ca219311dabe384fe0d6f.idx']\n",
                        "\n",
                        "Current Path: s:\\BMI6017\\Week2\\exerPythFilesTutorial\\.git\\objects\\info\n",
                        "Directories: []\n",
                        "Files: []\n",
                        "\n",
                        "Current Path: s:\\BMI6017\\Week2\\exerPythFilesTutorial\\.git\\objects\\eb\n",
                        "Directories: []\n",
                        "Files: ['888e89520d31d01bbef68011ff7ec9e553d441']\n",
                        "\n",
                        "Current Path: s:\\BMI6017\\Week2\\exerPythFilesTutorial\\.git\\objects\\7d\n",
                        "Directories: []\n",
                        "Files: ['a3c029ab107d15ebc35fcb1e3ff337cadaa678']\n",
                        "\n",
                        "Current Path: s:\\BMI6017\\Week2\\exerPythFilesTutorial\\.git\\objects\\6d\n",
                        "Directories: []\n",
                        "Files: ['773e309962dd33c1b071fecbd418b90d62d0a4']\n",
                        "\n",
                        "Current Path: s:\\BMI6017\\Week2\\exerPythFilesTutorial\\.git\\objects\\d3\n",
                        "Directories: []\n",
                        "Files: ['56abf037be17dbcd3ee0ef8427ab2ba54b5890']\n",
                        "\n",
                        "Current Path: s:\\BMI6017\\Week2\\exerPythFilesTutorial\\.git\\objects\\cd\n",
                        "Directories: []\n",
                        "Files: ['f395037edcba74ef1b10fba8d7af2431e4a9aa']\n",
                        "\n",
                        "Current Path: s:\\BMI6017\\Week2\\exerPythFilesTutorial\\.git\\objects\\cb\n",
                        "Directories: []\n",
                        "Files: ['76195c601065521d70dadb92cddf2f5a6db9f5']\n",
                        "\n",
                        "Current Path: s:\\BMI6017\\Week2\\exerPythFilesTutorial\\.git\\logs\n",
                        "Directories: ['refs']\n",
                        "Files: ['HEAD']\n",
                        "\n",
                        "Current Path: s:\\BMI6017\\Week2\\exerPythFilesTutorial\\.git\\logs\\refs\n",
                        "Directories: ['remotes', 'heads']\n",
                        "Files: []\n",
                        "\n",
                        "Current Path: s:\\BMI6017\\Week2\\exerPythFilesTutorial\\.git\\logs\\refs\\remotes\n",
                        "Directories: ['origin']\n",
                        "Files: []\n",
                        "\n",
                        "Current Path: s:\\BMI6017\\Week2\\exerPythFilesTutorial\\.git\\logs\\refs\\remotes\\origin\n",
                        "Directories: []\n",
                        "Files: ['HEAD']\n",
                        "\n",
                        "Current Path: s:\\BMI6017\\Week2\\exerPythFilesTutorial\\.git\\logs\\refs\\heads\n",
                        "Directories: []\n",
                        "Files: ['master']\n",
                        "\n",
                        "Current Path: s:\\BMI6017\\exerPythCondaEnvPkgs\n",
                        "Directories: ['exerPythCondaEnvPkgs']\n",
                        "Files: []\n",
                        "\n",
                        "Current Path: s:\\BMI6017\\exerPythCondaEnvPkgs\\exerPythCondaEnvPkgs\n",
                        "Directories: ['.git']\n",
                        "Files: ['README.md']\n",
                        "\n",
                        "Current Path: s:\\BMI6017\\exerPythCondaEnvPkgs\\exerPythCondaEnvPkgs\\.git\n",
                        "Directories: ['hooks', 'info', 'refs', 'objects', 'logs']\n",
                        "Files: ['description', 'packed-refs', 'HEAD', 'config', 'index']\n",
                        "\n",
                        "Current Path: s:\\BMI6017\\exerPythCondaEnvPkgs\\exerPythCondaEnvPkgs\\.git\\hooks\n",
                        "Directories: []\n",
                        "Files: ['applypatch-msg.sample', 'commit-msg.sample', 'fsmonitor-watchman.sample', 'post-update.sample', 'pre-applypatch.sample', 'pre-commit.sample', 'pre-merge-commit.sample', 'pre-push.sample', 'pre-rebase.sample', 'pre-receive.sample', 'prepare-commit-msg.sample', 'push-to-checkout.sample', 'update.sample']\n",
                        "\n",
                        "Current Path: s:\\BMI6017\\exerPythCondaEnvPkgs\\exerPythCondaEnvPkgs\\.git\\info\n",
                        "Directories: []\n",
                        "Files: ['exclude']\n",
                        "\n",
                        "Current Path: s:\\BMI6017\\exerPythCondaEnvPkgs\\exerPythCondaEnvPkgs\\.git\\refs\n",
                        "Directories: ['heads', 'tags', 'remotes']\n",
                        "Files: []\n",
                        "\n",
                        "Current Path: s:\\BMI6017\\exerPythCondaEnvPkgs\\exerPythCondaEnvPkgs\\.git\\refs\\heads\n",
                        "Directories: []\n",
                        "Files: ['master']\n",
                        "\n",
                        "Current Path: s:\\BMI6017\\exerPythCondaEnvPkgs\\exerPythCondaEnvPkgs\\.git\\refs\\tags\n",
                        "Directories: []\n",
                        "Files: []\n",
                        "\n",
                        "Current Path: s:\\BMI6017\\exerPythCondaEnvPkgs\\exerPythCondaEnvPkgs\\.git\\refs\\remotes\n",
                        "Directories: ['origin']\n",
                        "Files: []\n",
                        "\n",
                        "Current Path: s:\\BMI6017\\exerPythCondaEnvPkgs\\exerPythCondaEnvPkgs\\.git\\refs\\remotes\\origin\n",
                        "Directories: []\n",
                        "Files: ['HEAD']\n",
                        "\n",
                        "Current Path: s:\\BMI6017\\exerPythCondaEnvPkgs\\exerPythCondaEnvPkgs\\.git\\objects\n",
                        "Directories: ['pack', 'info']\n",
                        "Files: []\n",
                        "\n",
                        "Current Path: s:\\BMI6017\\exerPythCondaEnvPkgs\\exerPythCondaEnvPkgs\\.git\\objects\\pack\n",
                        "Directories: []\n",
                        "Files: ['pack-7fbe98f847de3893ed472243a4f4ee98ad7ada2f.pack', 'pack-7fbe98f847de3893ed472243a4f4ee98ad7ada2f.idx']\n",
                        "\n",
                        "Current Path: s:\\BMI6017\\exerPythCondaEnvPkgs\\exerPythCondaEnvPkgs\\.git\\objects\\info\n",
                        "Directories: []\n",
                        "Files: []\n",
                        "\n",
                        "Current Path: s:\\BMI6017\\exerPythCondaEnvPkgs\\exerPythCondaEnvPkgs\\.git\\logs\n",
                        "Directories: ['refs']\n",
                        "Files: ['HEAD']\n",
                        "\n",
                        "Current Path: s:\\BMI6017\\exerPythCondaEnvPkgs\\exerPythCondaEnvPkgs\\.git\\logs\\refs\n",
                        "Directories: ['remotes', 'heads']\n",
                        "Files: []\n",
                        "\n",
                        "Current Path: s:\\BMI6017\\exerPythCondaEnvPkgs\\exerPythCondaEnvPkgs\\.git\\logs\\refs\\remotes\n",
                        "Directories: ['origin']\n",
                        "Files: []\n",
                        "\n",
                        "Current Path: s:\\BMI6017\\exerPythCondaEnvPkgs\\exerPythCondaEnvPkgs\\.git\\logs\\refs\\remotes\\origin\n",
                        "Directories: []\n",
                        "Files: ['HEAD']\n",
                        "\n",
                        "Current Path: s:\\BMI6017\\exerPythCondaEnvPkgs\\exerPythCondaEnvPkgs\\.git\\logs\\refs\\heads\n",
                        "Directories: []\n",
                        "Files: ['master']\n",
                        "\n"
                    ]
                }
            ],
            "metadata": {}
        },
        {
            "cell_type": "code",
            "execution_count": 25,
            "source": [
                "os.environ['USER'] = 'Robert'"
            ],
            "outputs": [],
            "metadata": {}
        },
        {
            "cell_type": "code",
            "execution_count": 27,
            "source": [
                "os.environ.get('HOMEPATH')"
            ],
            "outputs": [
                {
                    "output_type": "execute_result",
                    "data": {
                        "text/plain": [
                            "'\\\\Users\\\\Robert'"
                        ]
                    },
                    "metadata": {},
                    "execution_count": 27
                }
            ],
            "metadata": {}
        },
        {
            "cell_type": "code",
            "execution_count": 28,
            "source": [
                "print(os.environ.get('HOMEPATH'))"
            ],
            "outputs": [
                {
                    "output_type": "stream",
                    "name": "stdout",
                    "text": [
                        "\\Users\\Robert\n"
                    ]
                }
            ],
            "metadata": {}
        },
        {
            "cell_type": "code",
            "execution_count": 29,
            "source": [
                "os.chdir(\"/BMI6017/Week2/exerPythOsTutorial\\exerPythOsTutorial\")"
            ],
            "outputs": [],
            "metadata": {}
        },
        {
            "cell_type": "code",
            "execution_count": 46,
            "source": [
                "path = \"/home\""
            ],
            "outputs": [],
            "metadata": {}
        },
        {
            "cell_type": "code",
            "execution_count": 47,
            "source": [
                "print(os.path.join(path, \"User/Desktop\", \"file.txt\"))"
            ],
            "outputs": [
                {
                    "output_type": "stream",
                    "name": "stdout",
                    "text": [
                        "/home\\User/Desktop\\file.txt\n"
                    ]
                }
            ],
            "metadata": {}
        },
        {
            "cell_type": "code",
            "execution_count": 48,
            "source": [
                "print(os.path.basename(\"/tem/test.tet\"))"
            ],
            "outputs": [
                {
                    "output_type": "stream",
                    "name": "stdout",
                    "text": [
                        "test.tet\n"
                    ]
                }
            ],
            "metadata": {}
        },
        {
            "cell_type": "code",
            "execution_count": 49,
            "source": [
                "print(os.path.exists(\"/tem/test.tet\"))"
            ],
            "outputs": [
                {
                    "output_type": "stream",
                    "name": "stdout",
                    "text": [
                        "False\n"
                    ]
                }
            ],
            "metadata": {}
        },
        {
            "cell_type": "code",
            "execution_count": 50,
            "source": [
                "print(os.path.splitext(\"/tem/test.tet\"))"
            ],
            "outputs": [
                {
                    "output_type": "stream",
                    "name": "stdout",
                    "text": [
                        "('/tem/test', '.tet')\n"
                    ]
                }
            ],
            "metadata": {}
        },
        {
            "cell_type": "code",
            "execution_count": 51,
            "source": [
                "print(os.path.split(\"/tem/test.tet\"))"
            ],
            "outputs": [
                {
                    "output_type": "stream",
                    "name": "stdout",
                    "text": [
                        "('/tem', 'test.tet')\n"
                    ]
                }
            ],
            "metadata": {}
        },
        {
            "cell_type": "code",
            "execution_count": 52,
            "source": [
                "print(os.path.isdir('/tem/\"'))"
            ],
            "outputs": [
                {
                    "output_type": "stream",
                    "name": "stdout",
                    "text": [
                        "False\n"
                    ]
                }
            ],
            "metadata": {}
        },
        {
            "cell_type": "code",
            "execution_count": 53,
            "source": [
                "print(os.path.isfile(\"/tem/test.tet\"))"
            ],
            "outputs": [
                {
                    "output_type": "stream",
                    "name": "stdout",
                    "text": [
                        "False\n"
                    ]
                }
            ],
            "metadata": {}
        }
    ],
    "metadata": {
        "orig_nbformat": 4,
        "language_info": {
            "name": "python",
            "version": "3.8.8",
            "mimetype": "text/x-python",
            "codemirror_mode": {
                "name": "ipython",
                "version": 3
            },
            "pygments_lexer": "ipython3",
            "nbconvert_exporter": "python",
            "file_extension": ".py"
        },
        "kernelspec": {
            "name": "python3",
            "display_name": "Python 3.8.8 64-bit"
        },
        "interpreter": {
            "hash": "b3ba2566441a7c06988d0923437866b63cedc61552a5af99d1f4fb67d367b25f"
        }
    },
    "nbformat": 4,
    "nbformat_minor": 2
}